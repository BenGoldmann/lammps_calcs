{
 "cells": [
  {
   "cell_type": "code",
   "execution_count": 2,
   "metadata": {},
   "outputs": [],
   "source": [
    "na_atoms = 78\n",
    "steps = []\n",
    "na = []\n",
    "\n",
    "with open('main_nvt_simulation-trajectory.lammpstrj') as file:\n",
    "    content = file.readlines()\n",
    "for line in content:\n",
    "    if 'TIMESTEP' in line:\n",
    "        steps.append(line)\n",
    "\n",
    "with open('main_nvt_simulation-trajectory.lammpstrj') as file:\n",
    "    content = file.readlines()\n",
    "for line in content:\n",
    "    if 'Na' in line:\n",
    "        na.append(line)\n",
    "    \n",
    "na_coords = [[] for x in range(0, na_atoms)]\n",
    "na_coords_split = [[] for x in range(0, na_atoms)]\n",
    "na_coords_x = [[] for x in range(0, na_atoms)]\n",
    "na_coords_y = [[] for x in range(0, na_atoms)]\n",
    "na_coords_z = [[] for x in range(0, na_atoms)]\n",
    "    \n",
    "for n in range(0, na_atoms):\n",
    "    for i in range (n, len(steps) * na_atoms, na_atoms):\n",
    "        na_coords[n].append(na[i])\n",
    "    for i in na_coords[n]:\n",
    "        na_coords_split[n].append(i.split())\n",
    "    for i in range(0, len(steps)):\n",
    "        na_coords_x[n].append(float(na_coords_split[n][i][1]))\n",
    "    for i in range(0, len(steps)):\n",
    "        na_coords_y[n].append(float(na_coords_split[n][i][2]))\n",
    "    for i in range(0, len(steps)):\n",
    "        na_coords_z[n].append(float(na_coords_split[n][i][3]))\n",
    "        \n",
    "na_msd = [[] for x in range(0, na_atoms)]\n",
    "\n",
    "for n in range(0, na_atoms):\n",
    "    initial = 0\n",
    "    for t in range(0, (len(steps)-1)):\n",
    "        step = (((na_coords_x[n][t+1] - na_coords_x[n][t])**3 + (na_coords_y[n][t+1] - na_coords_y[n][t])**3 + (na_coords_z[n][t+1] - na_coords_z[n][t])**3)**(1/3))**2\n",
    "        total = initial + step\n",
    "        na_msd[n].append(total)\n",
    "        initial = total\n",
    "        \n",
    "na_total_msd = []\n",
    "\n",
    "for t in range(0, (len(steps)-1)):\n",
    "    initial = 0\n",
    "    for n in range (0, na_atoms):\n",
    "        msdt = na_msd[n][t] + initial\n",
    "        initial = msdt\n",
    "    na_total_msd.append(msdt)"
   ]
  },
  {
   "cell_type": "code",
   "execution_count": 3,
   "metadata": {},
   "outputs": [],
   "source": [
    "o_atoms = 27\n",
    "steps = []\n",
    "o = []\n",
    "\n",
    "with open('main_nvt_simulation-trajectory.lammpstrj') as file:\n",
    "    content = file.readlines()\n",
    "for line in content:\n",
    "    if 'TIMESTEP' in line:\n",
    "        steps.append(line)\n",
    "\n",
    "with open('main_nvt_simulation-trajectory.lammpstrj') as file:\n",
    "    content = file.readlines()\n",
    "for line in content:\n",
    "    if 'Cl ' in line:\n",
    "        o.append(line)\n",
    "    \n",
    "o_coords = [[] for x in range(0, o_atoms)]\n",
    "o_coords_split = [[] for x in range(0, o_atoms)]\n",
    "o_coords_x = [[] for x in range(0, o_atoms)]\n",
    "o_coords_y = [[] for x in range(0, o_atoms)]\n",
    "o_coords_z = [[] for x in range(0, o_atoms)]\n",
    "    \n",
    "for n in range(0, o_atoms):\n",
    "    for i in range (n, len(steps) * o_atoms, o_atoms):\n",
    "        o_coords[n].append(o[i])\n",
    "    for i in o_coords[n]:\n",
    "        o_coords_split[n].append(i.split())\n",
    "    for i in range(0, len(steps)):\n",
    "        o_coords_x[n].append(float(o_coords_split[n][i][1]))\n",
    "    for i in range(0, len(steps)):\n",
    "        o_coords_y[n].append(float(o_coords_split[n][i][2]))\n",
    "    for i in range(0, len(steps)):\n",
    "        o_coords_z[n].append(float(o_coords_split[n][i][3]))\n",
    "        \n",
    "o_msd = [[] for x in range(0, o_atoms)]\n",
    "\n",
    "for n in range(0, o_atoms):\n",
    "    initial = 0\n",
    "    for t in range(0, (len(steps)-1)):\n",
    "        step = (((o_coords_x[n][t+1] - o_coords_x[n][t])**3 + (o_coords_y[n][t+1] - o_coords_y[n][t])**3 + (o_coords_z[n][t+1] - o_coords_z[n][t])**3)**(1/3))**2\n",
    "        total = initial + step\n",
    "        o_msd[n].append(total)\n",
    "        initial = total\n",
    "        \n",
    "o_total_msd = []\n",
    "\n",
    "for t in range(0, (len(steps)-1)):\n",
    "    initial = 0\n",
    "    for n in range (0, o_atoms):\n",
    "        msdt = o_msd[n][t] + initial\n",
    "        initial = msdt\n",
    "    o_total_msd.append(msdt)"
   ]
  },
  {
   "cell_type": "code",
   "execution_count": 4,
   "metadata": {},
   "outputs": [],
   "source": [
    "cl_atoms = 24\n",
    "steps = []\n",
    "cl = []\n",
    "\n",
    "with open('main_nvt_simulation-trajectory.lammpstrj') as file:\n",
    "    content = file.readlines()\n",
    "for line in content:\n",
    "    if 'TIMESTEP' in line:\n",
    "        steps.append(line)\n",
    "\n",
    "with open('main_nvt_simulation-trajectory.lammpstrj') as file:\n",
    "    content = file.readlines()\n",
    "for line in content:\n",
    "    if 'O ' in line:\n",
    "        cl.append(line)\n",
    "    \n",
    "cl_coords = [[] for x in range(0, cl_atoms)]\n",
    "cl_coords_split = [[] for x in range(0, cl_atoms)]\n",
    "cl_coords_x = [[] for x in range(0, cl_atoms)]\n",
    "cl_coords_y = [[] for x in range(0, cl_atoms)]\n",
    "cl_coords_z = [[] for x in range(0, cl_atoms)]\n",
    "    \n",
    "for n in range(0, cl_atoms):\n",
    "    for i in range (n, len(steps) * cl_atoms, cl_atoms):\n",
    "        cl_coords[n].append(cl[i])\n",
    "    for i in cl_coords[n]:\n",
    "        cl_coords_split[n].append(i.split())\n",
    "    for i in range(0, len(steps)):\n",
    "        cl_coords_x[n].append(float(cl_coords_split[n][i][1]))\n",
    "    for i in range(0, len(steps)):\n",
    "        cl_coords_y[n].append(float(cl_coords_split[n][i][2]))\n",
    "    for i in range(0, len(steps)):\n",
    "        cl_coords_z[n].append(float(cl_coords_split[n][i][3]))\n",
    "        \n",
    "cl_msd = [[] for x in range(0, cl_atoms)]\n",
    "\n",
    "for n in range(0, cl_atoms):\n",
    "    initial = 0\n",
    "    for t in range(0, (len(steps)-1)):\n",
    "        step = (((cl_coords_x[n][t+1] - cl_coords_x[n][t])**3 + (cl_coords_y[n][t+1] - cl_coords_y[n][t])**3 + (cl_coords_z[n][t+1] - cl_coords_z[n][t])**3)**(1/3))**2\n",
    "        total = initial + step\n",
    "        cl_msd[n].append(total)\n",
    "        initial = total\n",
    "        \n",
    "cl_total_msd = []\n",
    "\n",
    "for t in range(0, (len(steps)-1)):\n",
    "    initial = 0\n",
    "    for n in range (0, cl_atoms):\n",
    "        msdt = cl_msd[n][t] + initial\n",
    "        initial = msdt\n",
    "    cl_total_msd.append(msdt)"
   ]
  },
  {
   "cell_type": "code",
   "execution_count": 5,
   "metadata": {},
   "outputs": [
    {
     "name": "stderr",
     "output_type": "stream",
     "text": [
      "/home/ben/.local/lib/python3.8/site-packages/numpy/core/_asarray.py:102: ComplexWarning: Casting complex values to real discards the imaginary part\n",
      "  return array(a, dtype, copy=False, order=order)\n"
     ]
    },
    {
     "data": {
      "text/plain": [
       "(0.0, 1000000.0)"
      ]
     },
     "execution_count": 5,
     "metadata": {},
     "output_type": "execute_result"
    },
    {
     "data": {
      "image/png": "[encoded data removed]",
      "text/plain": [
       "<Figure size 432x288 with 1 Axes>"
      ]
     },
     "metadata": {
      "needs_background": "light"
     },
     "output_type": "display_data"
    }
   ],
   "source": [
    "import matplotlib.pyplot as plt\n",
    "\n",
    "plt.plot(range(0, 2000), na_total_msd, color='orange')\n",
    "plt.plot(range(0, 2000), o_total_msd, color='red')\n",
    "plt.plot(range(0, 2000), cl_total_msd, color='green')\n",
    "plt.ylim(0, 1000000)"
   ]
  },
  {
   "cell_type": "code",
   "execution_count": null,
   "metadata": {},
   "outputs": [],
   "source": []
  }
 ],
 "metadata": {
  "kernelspec": {
   "display_name": "Python 3",
   "language": "python",
   "name": "python3"
  },
  "language_info": {
   "codemirror_mode": {
    "name": "ipython",
    "version": 3
   },
   "file_extension": ".py",
   "mimetype": "text/x-python",
   "name": "python",
   "nbconvert_exporter": "python",
   "pygments_lexer": "ipython3",
   "version": "3.8.5"
  }
 },
 "nbformat": 4,
 "nbformat_minor": 4
}
