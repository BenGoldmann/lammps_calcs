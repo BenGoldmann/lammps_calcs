{
 "cells": [
  {
   "cell_type": "code",
   "execution_count": 15,
   "metadata": {},
   "outputs": [],
   "source": [
    "# For Schottky\n",
    "\n",
    "import pymatgen as mg\n",
    "from random import sample\n",
    "from pymatgen.io.cif import CifWriter\n",
    "\n",
    "def vacancy(structure):\n",
    "    \"\"\"This is a function that generates random vacancies in the structure\"\"\"\n",
    "    na_sites = [i for i, site in enumerate(list(structure)) if site.species_string == \"Na\"]\n",
    "    cl_sites = [i for i, site in enumerate(list(structure)) if site.species_string == \"Cl\"]\n",
    "    vacancies = sample(na_sites,3) + sample(cl_sites,3)\n",
    "    vacancies = sorted(vacancies, reverse=True)\n",
    "    for i in vacancies:\n",
    "        del structure[i]\n",
    "    return structure\n",
    "\n",
    "#Create lattice and supercell\n",
    "\n",
    "lattice = mg.Lattice.cubic(4.501)\n",
    "structure = mg.Structure(lattice, ['Na', 'Na', 'Na', 'O', 'Cl'], [[0.5, 0.5, 0], [0.5, 0, 0.5], [0, 0.5, 0.5], [0.5, 0.5, 0.5], [0, 0, 0]])\n",
    "structure.make_supercell([6,6,6])\n",
    "\n",
    "#Generate defects\n",
    "\n",
    "defects = vacancy(structure)\n",
    "\n",
    "#Export as .cif\n",
    "\n",
    "w = CifWriter(defects)\n",
    "w.write_file('na3ocl_vac.cif')"
   ]
  },
  {
   "cell_type": "code",
   "execution_count": 35,
   "metadata": {},
   "outputs": [],
   "source": [
    "# For doping\n",
    "\n",
    "import pymatgen as mg\n",
    "from random import sample\n",
    "from pymatgen.io.cif import CifWriter\n",
    "\n",
    "def vacancy(structure):\n",
    "    \"\"\"This is a function that generates random vacancies in the structure\"\"\"\n",
    "    na_sites = [i for i, site in enumerate(list(structure)) if site.species_string == \"Na\"]\n",
    "    vacancies = sample(na_sites,1)\n",
    "    vacancies = sorted(vacancies, reverse=True)\n",
    "    for i in vacancies:\n",
    "        del structure[i]\n",
    "    return structure\n",
    "\n",
    "#Create lattice and supercell\n",
    "\n",
    "lattice = mg.Lattice.cubic(4.501)\n",
    "structure = mg.Structure(lattice, ['Na', 'Na', 'Na', 'O', 'Cl'], [[0.5, 0.5, 0], [0.5, 0, 0.5], [0, 0.5, 0.5], [0.5, 0.5, 0.5], [0, 0, 0]])\n",
    "structure.make_supercell([5,5,5])\n",
    "\n",
    "structure[0].species = \"Ba\"\n",
    "\n",
    "#Generate defects\n",
    "\n",
    "defects = vacancy(structure)\n",
    "\n",
    "#Export as .cif\n",
    "\n",
    "w = CifWriter(defects)\n",
    "w.write_file('na3ocl_ba.cif')"
   ]
  },
  {
   "cell_type": "code",
   "execution_count": 31,
   "metadata": {},
   "outputs": [
    {
     "ename": "NameError",
     "evalue": "name 'vacancies' is not defined",
     "output_type": "error",
     "traceback": [
      "\u001b[0;31m---------------------------------------------------------------------------\u001b[0m",
      "\u001b[0;31mNameError\u001b[0m                                 Traceback (most recent call last)",
      "\u001b[0;32m<ipython-input-31-9b5274d245dc>\u001b[0m in \u001b[0;36m<module>\u001b[0;34m\u001b[0m\n\u001b[0;32m----> 1\u001b[0;31m \u001b[0mvacancies\u001b[0m\u001b[0;34m\u001b[0m\u001b[0;34m\u001b[0m\u001b[0m\n\u001b[0m",
      "\u001b[0;31mNameError\u001b[0m: name 'vacancies' is not defined"
     ]
    }
   ],
   "source": [
    "vacancies"
   ]
  },
  {
   "cell_type": "code",
   "execution_count": null,
   "metadata": {},
   "outputs": [],
   "source": []
  }
 ],
 "metadata": {
  "kernelspec": {
   "display_name": "Python 3",
   "language": "python",
   "name": "python3"
  },
  "language_info": {
   "codemirror_mode": {
    "name": "ipython",
    "version": 3
   },
   "file_extension": ".py",
   "mimetype": "text/x-python",
   "name": "python",
   "nbconvert_exporter": "python",
   "pygments_lexer": "ipython3",
   "version": "3.8.5"
  }
 },
 "nbformat": 4,
 "nbformat_minor": 4
}
