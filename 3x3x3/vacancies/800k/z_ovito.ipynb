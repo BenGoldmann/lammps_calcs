{
 "cells": [
  {
   "cell_type": "code",
   "execution_count": 20,
   "metadata": {},
   "outputs": [],
   "source": [
    "from ovito.io import import_file, export_file\n",
    "from ovito.modifiers import CalculateDisplacementsModifier\n",
    "import numpy\n",
    "\n",
    "# Load input data and create a data pipeline.\n",
    "pipeline = import_file(\"long.lammpstrj\")\n",
    "\n",
    "# Expression selection:\n",
    "pipeline.modifiers.append(ExpressionSelectionModifier(expression = 'ParticleType==2 || ParticleType==3'))\n",
    "\n",
    "# Delete selected:\n",
    "pipeline.modifiers.append(DeleteSelectedModifier())\n",
    "\n",
    "# Calculate per-particle displacements with respect to initial simulation frame:\n",
    "pipeline.modifiers.append(CalculateDisplacementsModifier())\n",
    "\n",
    "# Define the custom modifier function:\n",
    "def modify(frame, data):\n",
    "\n",
    "    # Access the per-particle displacement magnitudes computed by the \n",
    "    # CalculateDisplacementsModifier that precedes this user-defined modifier in the \n",
    "    # data pipeline:\n",
    "    displacement_magnitudes = data.particles['Displacement Magnitude']\n",
    "\n",
    "    # Compute MSD:\n",
    "    msd = numpy.sum(displacement_magnitudes ** 2) / len(displacement_magnitudes)\n",
    "\n",
    "    # Output MSD value as a global attribute: \n",
    "    data.attributes[\"MSD\"] = msd \n",
    "\n",
    "# Insert user-defined modifier function into the data pipeline.\n",
    "pipeline.modifiers.append(modify)\n",
    "\n",
    "# Export calculated MSD value to a text file and let OVITO's data pipeline do the rest:\n",
    "export_file(pipeline, \"na_msd_data.txt\", \n",
    "    format = \"txt/attr\",\n",
    "    columns = [\"Timestep\", \"MSD\"],\n",
    "    multiple_frames = True)"
   ]
  },
  {
   "cell_type": "code",
   "execution_count": 35,
   "metadata": {},
   "outputs": [],
   "source": [
    "from ovito.io import import_file, export_file\n",
    "from ovito.modifiers import CalculateDisplacementsModifier\n",
    "import numpy\n",
    "\n",
    "# Load input data and create a data pipeline.\n",
    "pipeline = import_file(\"long.lammpstrj\")\n",
    "\n",
    "# Expression selection:\n",
    "pipeline.modifiers.append(ExpressionSelectionModifier(expression = 'ParticleType==1 || ParticleType==2'))\n",
    "\n",
    "# Delete selected:\n",
    "pipeline.modifiers.append(DeleteSelectedModifier())\n",
    "\n",
    "# Calculate per-particle displacements with respect to initial simulation frame:\n",
    "pipeline.modifiers.append(CalculateDisplacementsModifier())\n",
    "\n",
    "# Define the custom modifier function:\n",
    "def modify(frame, data):\n",
    "\n",
    "    # Access the per-particle displacement magnitudes computed by the \n",
    "    # CalculateDisplacementsModifier that precedes this user-defined modifier in the \n",
    "    # data pipeline:\n",
    "    displacement_magnitudes = data.particles['Displacement Magnitude']\n",
    "\n",
    "    # Compute MSD:\n",
    "    msd = numpy.sum(displacement_magnitudes ** 2) / len(displacement_magnitudes)\n",
    "\n",
    "    # Output MSD value as a global attribute: \n",
    "    data.attributes[\"MSD\"] = msd \n",
    "\n",
    "# Insert user-defined modifier function into the data pipeline.\n",
    "pipeline.modifiers.append(modify)\n",
    "\n",
    "# Export calculated MSD value to a text file and let OVITO's data pipeline do the rest:\n",
    "export_file(pipeline, \"cl_msd_data.txt\", \n",
    "    format = \"txt/attr\",\n",
    "    columns = [\"Timestep\", \"MSD\"],\n",
    "    multiple_frames = True)"
   ]
  },
  {
   "cell_type": "code",
   "execution_count": 40,
   "metadata": {},
   "outputs": [],
   "source": [
    "from ovito.io import import_file, export_file\n",
    "from ovito.modifiers import CalculateDisplacementsModifier\n",
    "import numpy\n",
    "\n",
    "# Load input data and create a data pipeline.\n",
    "pipeline = import_file(\"long.lammpstrj\")\n",
    "\n",
    "# Expression selection:\n",
    "pipeline.modifiers.append(ExpressionSelectionModifier(expression = 'ParticleType==1 || ParticleType==3'))\n",
    "\n",
    "# Delete selected:\n",
    "pipeline.modifiers.append(DeleteSelectedModifier())\n",
    "\n",
    "# Calculate per-particle displacements with respect to initial simulation frame:\n",
    "pipeline.modifiers.append(CalculateDisplacementsModifier())\n",
    "\n",
    "# Define the custom modifier function:\n",
    "def modify(frame, data):\n",
    "\n",
    "    # Access the per-particle displacement magnitudes computed by the \n",
    "    # CalculateDisplacementsModifier that precedes this user-defined modifier in the \n",
    "    # data pipeline:\n",
    "    displacement_magnitudes = data.particles['Displacement Magnitude']\n",
    "\n",
    "    # Compute MSD:\n",
    "    msd = numpy.sum(displacement_magnitudes ** 2) / len(displacement_magnitudes)\n",
    "\n",
    "    # Output MSD value as a global attribute: \n",
    "    data.attributes[\"MSD\"] = msd \n",
    "\n",
    "# Insert user-defined modifier function into the data pipeline.\n",
    "pipeline.modifiers.append(modify)\n",
    "\n",
    "# Export calculated MSD value to a text file and let OVITO's data pipeline do the rest:\n",
    "export_file(pipeline, \"o_msd_data.txt\", \n",
    "    format = \"txt/attr\",\n",
    "    columns = [\"Timestep\", \"MSD\"],\n",
    "    multiple_frames = True)"
   ]
  },
  {
   "cell_type": "code",
   "execution_count": 42,
   "metadata": {},
   "outputs": [],
   "source": [
    "import numpy as np\n",
    "\n",
    "na_step, na_msd = np.loadtxt('na_msd_data.txt', skiprows=1, unpack=True)\n",
    "cl_step, cl_msd = np.loadtxt('cl_msd_data.txt', skiprows=1, unpack=True)\n",
    "o_step, o_msd = np.loadtxt('o_msd_data.txt', skiprows=1, unpack=True)"
   ]
  },
  {
   "cell_type": "code",
   "execution_count": 43,
   "metadata": {},
   "outputs": [
    {
     "data": {
      "text/plain": [
       "[<matplotlib.lines.Line2D at 0x7fef00796730>]"
      ]
     },
     "execution_count": 43,
     "metadata": {},
     "output_type": "execute_result"
    },
    {
     "data": {
      "image/png": "[encoded data removed]",
      "text/plain": [
       "<Figure size 432x288 with 1 Axes>"
      ]
     },
     "metadata": {
      "needs_background": "light"
     },
     "output_type": "display_data"
    }
   ],
   "source": [
    "import matplotlib.pyplot as plt\n",
    "\n",
    "plt.plot(na_step, na_msd, color='orange')\n",
    "plt.plot(cl_step, cl_msd, color='green')\n",
    "plt.plot(o_step, cl_msd, color='red')"
   ]
  },
  {
   "cell_type": "code",
   "execution_count": 50,
   "metadata": {},
   "outputs": [],
   "source": [
    "from ovito.io import import_file, export_file\n",
    "from ovito.modifiers import CalculateDisplacementsModifier\n",
    "import numpy\n",
    "\n",
    "# Load input data and create a data pipeline.\n",
    "pipeline = import_file(\"../300k/long.lammpstrj\")\n",
    "\n",
    "# Expression selection:\n",
    "pipeline.modifiers.append(ExpressionSelectionModifier(expression = 'ParticleType==2 || ParticleType==3'))\n",
    "\n",
    "# Delete selected:\n",
    "pipeline.modifiers.append(DeleteSelectedModifier())\n",
    "\n",
    "# Calculate per-particle displacements with respect to initial simulation frame:\n",
    "pipeline.modifiers.append(CalculateDisplacementsModifier())\n",
    "\n",
    "# Define the custom modifier function:\n",
    "def modify(frame, data):\n",
    "\n",
    "    # Access the per-particle displacement magnitudes computed by the \n",
    "    # CalculateDisplacementsModifier that precedes this user-defined modifier in the \n",
    "    # data pipeline:\n",
    "    displacement_magnitudes = data.particles['Displacement Magnitude']\n",
    "\n",
    "    # Compute MSD:\n",
    "    msd = numpy.sum(displacement_magnitudes ** 2) / len(displacement_magnitudes)\n",
    "\n",
    "    # Output MSD value as a global attribute: \n",
    "    data.attributes[\"MSD\"] = msd \n",
    "\n",
    "# Insert user-defined modifier function into the data pipeline.\n",
    "pipeline.modifiers.append(modify)\n",
    "\n",
    "# Export calculated MSD value to a text file and let OVITO's data pipeline do the rest:\n",
    "export_file(pipeline, \"na_0v_msd_data.txt\", \n",
    "    format = \"txt/attr\",\n",
    "    columns = [\"Timestep\", \"MSD\"],\n",
    "    multiple_frames = True)"
   ]
  },
  {
   "cell_type": "code",
   "execution_count": 51,
   "metadata": {},
   "outputs": [],
   "source": [
    "import numpy as np\n",
    "\n",
    "na_step, na_msd = np.loadtxt('na_msd_data.txt', skiprows=1, unpack=True)\n",
    "na_0v_step, na_0v_msd = np.loadtxt('na_0v_msd_data.txt', skiprows=1, unpack=True)"
   ]
  },
  {
   "cell_type": "code",
   "execution_count": 52,
   "metadata": {},
   "outputs": [
    {
     "data": {
      "text/plain": [
       "[<matplotlib.lines.Line2D at 0x7fef1014c940>]"
      ]
     },
     "execution_count": 52,
     "metadata": {},
     "output_type": "execute_result"
    },
    {
     "data": {
      "image/png": "[encoded data removed]",
      "text/plain": [
       "<Figure size 432x288 with 1 Axes>"
      ]
     },
     "metadata": {
      "needs_background": "light"
     },
     "output_type": "display_data"
    }
   ],
   "source": [
    "import matplotlib.pyplot as plt\n",
    "\n",
    "plt.plot(na_step, na_msd, color='orange')\n",
    "plt.plot(na_0v_step, na_0v_msd, color='yellow')"
   ]
  },
  {
   "cell_type": "code",
   "execution_count": 68,
   "metadata": {},
   "outputs": [
    {
     "ename": "KeyboardInterrupt",
     "evalue": "Operation has been canceled by the user.",
     "output_type": "error",
     "traceback": [
      "\u001b[0;31m---------------------------------------------------------------------------\u001b[0m",
      "\u001b[0;31mKeyboardInterrupt\u001b[0m                         Traceback (most recent call last)",
      "\u001b[0;32m<ipython-input-68-7d9a826d5ae8>\u001b[0m in \u001b[0;36m<module>\u001b[0;34m\u001b[0m\n\u001b[1;32m     33\u001b[0m \u001b[0;34m\u001b[0m\u001b[0m\n\u001b[1;32m     34\u001b[0m \u001b[0;31m# Rendering:\u001b[0m\u001b[0;34m\u001b[0m\u001b[0;34m\u001b[0m\u001b[0;34m\u001b[0m\u001b[0m\n\u001b[0;32m---> 35\u001b[0;31m \u001b[0mvp\u001b[0m\u001b[0;34m.\u001b[0m\u001b[0mrender_anim\u001b[0m\u001b[0;34m(\u001b[0m\u001b[0mfilename\u001b[0m\u001b[0;34m=\u001b[0m\u001b[0;34m'/home/ben/Documents/lammps_calcs/vacancies/800k/traj.png'\u001b[0m\u001b[0;34m,\u001b[0m \u001b[0msize\u001b[0m\u001b[0;34m=\u001b[0m\u001b[0;34m(\u001b[0m\u001b[0;36m640\u001b[0m\u001b[0;34m,\u001b[0m \u001b[0;36m480\u001b[0m\u001b[0;34m)\u001b[0m\u001b[0;34m,\u001b[0m \u001b[0mfps\u001b[0m\u001b[0;34m=\u001b[0m\u001b[0;36m10\u001b[0m\u001b[0;34m)\u001b[0m\u001b[0;34m\u001b[0m\u001b[0;34m\u001b[0m\u001b[0m\n\u001b[0m",
      "\u001b[0;32m~/.local/lib/python3.8/site-packages/ovito/vis/__init__.py\u001b[0m in \u001b[0;36m_Viewport_render_anim\u001b[0;34m(self, filename, size, fps, background, renderer, range, every_nth)\u001b[0m\n\u001b[1;32m    212\u001b[0m         \u001b[0mfb\u001b[0m \u001b[0;34m=\u001b[0m \u001b[0mFrameBuffer\u001b[0m\u001b[0;34m(\u001b[0m\u001b[0msettings\u001b[0m\u001b[0;34m.\u001b[0m\u001b[0moutput_image_width\u001b[0m\u001b[0;34m,\u001b[0m \u001b[0msettings\u001b[0m\u001b[0;34m.\u001b[0m\u001b[0moutput_image_height\u001b[0m\u001b[0;34m)\u001b[0m\u001b[0;34m\u001b[0m\u001b[0;34m\u001b[0m\u001b[0m\n\u001b[1;32m    213\u001b[0m \u001b[0;34m\u001b[0m\u001b[0m\n\u001b[0;32m--> 214\u001b[0;31m     \u001b[0mself\u001b[0m\u001b[0;34m.\u001b[0m\u001b[0mdataset\u001b[0m\u001b[0;34m.\u001b[0m\u001b[0mrender_scene\u001b[0m\u001b[0;34m(\u001b[0m\u001b[0msettings\u001b[0m\u001b[0;34m,\u001b[0m \u001b[0mself\u001b[0m\u001b[0;34m,\u001b[0m \u001b[0mfb\u001b[0m\u001b[0;34m)\u001b[0m\u001b[0;34m\u001b[0m\u001b[0;34m\u001b[0m\u001b[0m\n\u001b[0m\u001b[1;32m    215\u001b[0m \u001b[0mViewport\u001b[0m\u001b[0;34m.\u001b[0m\u001b[0mrender_anim\u001b[0m \u001b[0;34m=\u001b[0m \u001b[0m_Viewport_render_anim\u001b[0m\u001b[0;34m\u001b[0m\u001b[0;34m\u001b[0m\u001b[0m\n\u001b[1;32m    216\u001b[0m \u001b[0;34m\u001b[0m\u001b[0m\n",
      "\u001b[0;31mKeyboardInterrupt\u001b[0m: Operation has been canceled by the user."
     ]
    }
   ],
   "source": [
    "# Boilerplate code generated by OVITO Pro 3.4.3\n",
    "from ovito.io import *\n",
    "from ovito.modifiers import *\n",
    "from ovito.pipeline import *\n",
    "from ovito.vis import *\n",
    "\n",
    "# Data import:\n",
    "pipeline = import_file('/home/ben/Documents/lammps_calcs/vacancies/800k/long.lammpstrj', multiple_frames = True)\n",
    "pipeline.add_to_scene()\n",
    "\n",
    "# Configuring visual elements associated with imported dataset:\n",
    "pipeline.compute().particles.vis.enabled = False\n",
    "\n",
    "# Expression selection:\n",
    "pipeline.modifiers.append(ExpressionSelectionModifier(expression = 'ParticleType==2 || ParticleType==3'))\n",
    "\n",
    "# Delete selected:\n",
    "pipeline.modifiers.append(DeleteSelectedModifier())\n",
    "\n",
    "# Generate trajectory lines:\n",
    "mod = GenerateTrajectoryLinesModifier()\n",
    "mod.vis.width = 0.04999999999999995\n",
    "mod.vis.color = (1.0, 0.6666666666666666, 0.0)\n",
    "mod.vis.shading = TrajectoryVis.Shading.Normal\n",
    "pipeline.modifiers.append(mod)\n",
    "\n",
    "# Viewport setup:\n",
    "vp = Viewport()\n",
    "vp.type = Viewport.Type.Ortho\n",
    "vp.fov = 9.827913658351937\n",
    "vp.camera_dir = (0.002192049555480316, 0.9999975974564871, -8.847110062899262e-17)\n",
    "vp.camera_pos = (5.626249977495, 5.626249977494998, 5.626249977495002)\n",
    "\n",
    "# Rendering:\n",
    "vp.render_anim(filename='/home/ben/Documents/lammps_calcs/vacancies/800k/traj.png', size=(640, 480), fps=10)"
   ]
  },
  {
   "cell_type": "code",
   "execution_count": 57,
   "metadata": {},
   "outputs": [
    {
     "data": {
      "text/plain": [
       "GenerateTrajectoryLinesModifier()"
      ]
     },
     "execution_count": 57,
     "metadata": {},
     "output_type": "execute_result"
    }
   ],
   "source": [
    "mod"
   ]
  },
  {
   "cell_type": "code",
   "execution_count": null,
   "metadata": {},
   "outputs": [],
   "source": []
  }
 ],
 "metadata": {
  "kernelspec": {
   "display_name": "Python 3",
   "language": "python",
   "name": "python3"
  },
  "language_info": {
   "codemirror_mode": {
    "name": "ipython",
    "version": 3
   },
   "file_extension": ".py",
   "mimetype": "text/x-python",
   "name": "python",
   "nbconvert_exporter": "python",
   "pygments_lexer": "ipython3",
   "version": "3.8.5"
  }
 },
 "nbformat": 4,
 "nbformat_minor": 4
}
