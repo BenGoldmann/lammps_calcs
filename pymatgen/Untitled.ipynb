{
 "cells": [
  {
   "cell_type": "code",
   "execution_count": 2,
   "metadata": {},
   "outputs": [
    {
     "name": "stdout",
     "output_type": "stream",
     "text": [
      "Collecting pymatgen\n",
      "  Using cached pymatgen-2021.2.16.tar.gz (3.0 MB)\n",
      "  Installing build dependencies ... \u001b[?25ldone\n",
      "\u001b[?25h  Getting requirements to build wheel ... \u001b[?25ldone\n",
      "\u001b[?25h  Installing backend dependencies ... \u001b[?25ldone\n",
      "\u001b[?25h    Preparing wheel metadata ... \u001b[?25ldone\n",
      "\u001b[?25hRequirement already satisfied: pandas in /home/ben/.local/lib/python3.8/site-packages (from pymatgen) (1.1.4)\n",
      "Collecting monty>=3.0.2\n",
      "  Using cached monty-4.0.2-py3-none-any.whl (62 kB)\n",
      "Requirement already satisfied: matplotlib>=1.5 in /home/ben/.local/lib/python3.8/site-packages (from pymatgen) (3.3.2)\n",
      "Collecting uncertainties>=3.1.4\n",
      "  Using cached uncertainties-3.1.5-py2.py3-none-any.whl (246 kB)\n",
      "Collecting plotly>=4.5.0\n",
      "  Using cached plotly-4.14.3-py2.py3-none-any.whl (13.2 MB)\n",
      "Collecting networkx>=2.2\n",
      "  Using cached networkx-2.5-py3-none-any.whl (1.6 MB)\n",
      "Collecting tabulate\n",
      "  Using cached tabulate-0.8.9-py3-none-any.whl (25 kB)\n",
      "Collecting ruamel.yaml>=0.15.6\n",
      "  Using cached ruamel.yaml-0.16.12-py2.py3-none-any.whl (111 kB)\n",
      "Collecting palettable>=3.1.1\n",
      "  Using cached palettable-3.3.0-py2.py3-none-any.whl (111 kB)\n",
      "Collecting numpy>=1.20.1\n",
      "  Using cached numpy-1.20.1-cp38-cp38-manylinux2010_x86_64.whl (15.4 MB)\n",
      "Collecting sympy\n",
      "  Using cached sympy-1.7.1-py3-none-any.whl (5.9 MB)\n",
      "Requirement already satisfied: requests in /usr/lib/python3/dist-packages (from pymatgen) (2.22.0)\n",
      "Collecting scipy>=1.5.0\n",
      "  Downloading scipy-1.6.1-cp38-cp38-manylinux1_x86_64.whl (27.3 MB)\n",
      "\u001b[K     |████████████████████████████████| 27.3 MB 6.9 MB/s eta 0:00:01\n",
      "\u001b[?25hCollecting spglib>=1.9.9.44\n",
      "  Downloading spglib-1.16.1-cp38-cp38-manylinux2010_x86_64.whl (295 kB)\n",
      "\u001b[K     |████████████████████████████████| 295 kB 7.3 MB/s eta 0:00:01\n",
      "\u001b[?25hRequirement already satisfied: python-dateutil>=2.7.3 in /home/ben/.local/lib/python3.8/site-packages (from pandas->pymatgen) (2.8.1)\n",
      "Requirement already satisfied: pytz>=2017.2 in /usr/lib/python3/dist-packages (from pandas->pymatgen) (2019.3)\n",
      "Requirement already satisfied: kiwisolver>=1.0.1 in /home/ben/.local/lib/python3.8/site-packages (from matplotlib>=1.5->pymatgen) (1.2.0)\n",
      "Requirement already satisfied: pyparsing!=2.0.4,!=2.1.2,!=2.1.6,>=2.0.3 in /home/ben/.local/lib/python3.8/site-packages (from matplotlib>=1.5->pymatgen) (2.4.7)\n",
      "Requirement already satisfied: cycler>=0.10 in /home/ben/.local/lib/python3.8/site-packages (from matplotlib>=1.5->pymatgen) (0.10.0)\n",
      "Requirement already satisfied: pillow>=6.2.0 in /usr/lib/python3/dist-packages (from matplotlib>=1.5->pymatgen) (7.0.0)\n",
      "Requirement already satisfied: certifi>=2020.06.20 in /home/ben/.local/lib/python3.8/site-packages (from matplotlib>=1.5->pymatgen) (2020.6.20)\n",
      "Collecting future\n",
      "  Using cached future-0.18.2.tar.gz (829 kB)\n",
      "Requirement already satisfied: six in /usr/lib/python3/dist-packages (from plotly>=4.5.0->pymatgen) (1.14.0)\n",
      "Collecting retrying>=1.3.3\n",
      "  Using cached retrying-1.3.3.tar.gz (10 kB)\n",
      "Requirement already satisfied: decorator>=4.3.0 in /home/ben/.local/lib/python3.8/site-packages (from networkx>=2.2->pymatgen) (4.4.2)\n",
      "Collecting ruamel.yaml.clib>=0.1.2; platform_python_implementation == \"CPython\" and python_version < \"3.9\"\n",
      "  Downloading ruamel.yaml.clib-0.2.2-cp38-cp38-manylinux1_x86_64.whl (578 kB)\n",
      "\u001b[K     |████████████████████████████████| 578 kB 7.7 MB/s eta 0:00:01\n",
      "\u001b[?25hCollecting mpmath>=0.19\n",
      "  Using cached mpmath-1.2.1-py3-none-any.whl (532 kB)\n",
      "Building wheels for collected packages: pymatgen, future, retrying\n",
      "  Building wheel for pymatgen (PEP 517) ... \u001b[?25ldone\n",
      "\u001b[?25h  Created wheel for pymatgen: filename=pymatgen-2021.2.16-cp38-cp38-linux_x86_64.whl size=4269072 sha256=5e3c9db429e7e9a0eb4f03187b5017e9d5c4ffa9ade20d248e608d8ee9109213\n",
      "  Stored in directory: /home/ben/.cache/pip/wheels/24/71/5b/c5a524eba99dac090feb22a6f2e5d5511190d2caa3c70028b7\n",
      "  Building wheel for future (setup.py) ... \u001b[?25ldone\n",
      "\u001b[?25h  Created wheel for future: filename=future-0.18.2-py3-none-any.whl size=491058 sha256=62390956769399379408128d23771a63afa49693a25eda4435dd090194e6613f\n",
      "  Stored in directory: /home/ben/.cache/pip/wheels/8e/70/28/3d6ccd6e315f65f245da085482a2e1c7d14b90b30f239e2cf4\n",
      "  Building wheel for retrying (setup.py) ... \u001b[?25ldone\n",
      "\u001b[?25h  Created wheel for retrying: filename=retrying-1.3.3-py3-none-any.whl size=11430 sha256=dfe015749f59af7f1b21e0cfdb8653fc8c4178805319c9bf82916d806586c4ff\n",
      "  Stored in directory: /home/ben/.cache/pip/wheels/c4/a7/48/0a434133f6d56e878ca511c0e6c38326907c0792f67b476e56\n",
      "Successfully built pymatgen future retrying\n",
      "Installing collected packages: monty, future, uncertainties, retrying, plotly, networkx, tabulate, ruamel.yaml.clib, ruamel.yaml, palettable, numpy, mpmath, sympy, scipy, spglib, pymatgen\n",
      "  Attempting uninstall: numpy\n",
      "    Found existing installation: numpy 1.19.2\n",
      "    Uninstalling numpy-1.19.2:\n",
      "      Successfully uninstalled numpy-1.19.2\n",
      "Successfully installed future-0.18.2 monty-4.0.2 mpmath-1.2.1 networkx-2.5 numpy-1.20.1 palettable-3.3.0 plotly-4.14.3 pymatgen-2021.2.16 retrying-1.3.3 ruamel.yaml-0.16.12 ruamel.yaml.clib-0.2.2 scipy-1.6.1 spglib-1.16.1 sympy-1.7.1 tabulate-0.8.9 uncertainties-3.1.5\n",
      "Note: you may need to restart the kernel to use updated packages.\n"
     ]
    }
   ],
   "source": [
    "pip install pymatgen"
   ]
  },
  {
   "cell_type": "code",
   "execution_count": 1,
   "metadata": {},
   "outputs": [],
   "source": [
    "import pymatgen as mg"
   ]
  },
  {
   "cell_type": "code",
   "execution_count": 2,
   "metadata": {},
   "outputs": [],
   "source": [
    "lattice = mg.Lattice.cubic(4.501)"
   ]
  },
  {
   "cell_type": "code",
   "execution_count": 4,
   "metadata": {},
   "outputs": [
    {
     "data": {
      "text/plain": [
       "Lattice\n",
       "    abc : 4.501 4.501 4.501\n",
       " angles : 90.0 90.0 90.0\n",
       " volume : 91.18576350100001\n",
       "      A : 4.501 0.0 0.0\n",
       "      B : 0.0 4.501 0.0\n",
       "      C : 0.0 0.0 4.501"
      ]
     },
     "execution_count": 4,
     "metadata": {},
     "output_type": "execute_result"
    }
   ],
   "source": [
    "lattice"
   ]
  },
  {
   "cell_type": "code",
   "execution_count": 5,
   "metadata": {},
   "outputs": [],
   "source": [
    "structure = mg.Structure(lattice, ['Na', 'O', 'Cl'], [[0.5, 0.5, 0], [0.5, 0.5, 0.5], [0, 0, 0]])"
   ]
  },
  {
   "cell_type": "code",
   "execution_count": 6,
   "metadata": {},
   "outputs": [
    {
     "data": {
      "text/plain": [
       "Structure Summary\n",
       "Lattice\n",
       "    abc : 4.501 4.501 4.501\n",
       " angles : 90.0 90.0 90.0\n",
       " volume : 91.18576350100001\n",
       "      A : 4.501 0.0 0.0\n",
       "      B : 0.0 4.501 0.0\n",
       "      C : 0.0 0.0 4.501\n",
       "PeriodicSite: Na (2.2505, 2.2505, 0.0000) [0.5000, 0.5000, 0.0000]\n",
       "PeriodicSite: O (2.2505, 2.2505, 2.2505) [0.5000, 0.5000, 0.5000]\n",
       "PeriodicSite: Cl (0.0000, 0.0000, 0.0000) [0.0000, 0.0000, 0.0000]"
      ]
     },
     "execution_count": 6,
     "metadata": {},
     "output_type": "execute_result"
    }
   ],
   "source": [
    "structure"
   ]
  },
  {
   "cell_type": "code",
   "execution_count": 43,
   "metadata": {},
   "outputs": [
    {
     "ename": "IndexError",
     "evalue": "list assignment index out of range",
     "output_type": "error",
     "traceback": [
      "\u001b[0;31m---------------------------------------------------------------------------\u001b[0m",
      "\u001b[0;31mIndexError\u001b[0m                                Traceback (most recent call last)",
      "\u001b[0;32m<ipython-input-43-cb00711359c1>\u001b[0m in \u001b[0;36m<module>\u001b[0;34m\u001b[0m\n\u001b[1;32m     15\u001b[0m \u001b[0mstructure\u001b[0m\u001b[0;34m.\u001b[0m\u001b[0mmake_supercell\u001b[0m\u001b[0;34m(\u001b[0m\u001b[0;34m[\u001b[0m\u001b[0;36m3\u001b[0m\u001b[0;34m,\u001b[0m\u001b[0;36m3\u001b[0m\u001b[0;34m,\u001b[0m\u001b[0;36m3\u001b[0m\u001b[0;34m]\u001b[0m\u001b[0;34m)\u001b[0m\u001b[0;34m\u001b[0m\u001b[0;34m\u001b[0m\u001b[0m\n\u001b[1;32m     16\u001b[0m \u001b[0;34m\u001b[0m\u001b[0m\n\u001b[0;32m---> 17\u001b[0;31m \u001b[0mbalance_Na\u001b[0m\u001b[0;34m(\u001b[0m\u001b[0mstructure\u001b[0m\u001b[0;34m)\u001b[0m\u001b[0;34m\u001b[0m\u001b[0;34m\u001b[0m\u001b[0m\n\u001b[0m\u001b[1;32m     18\u001b[0m \u001b[0;34m\u001b[0m\u001b[0m\n\u001b[1;32m     19\u001b[0m \u001b[0mw\u001b[0m \u001b[0;34m=\u001b[0m \u001b[0mCifWriter\u001b[0m\u001b[0;34m(\u001b[0m\u001b[0mstructure\u001b[0m\u001b[0;34m)\u001b[0m\u001b[0;34m\u001b[0m\u001b[0;34m\u001b[0m\u001b[0m\n",
      "\u001b[0;32m<ipython-input-43-cb00711359c1>\u001b[0m in \u001b[0;36mbalance_Na\u001b[0;34m(structure)\u001b[0m\n\u001b[1;32m      8\u001b[0m     \u001b[0mvacancies\u001b[0m \u001b[0;34m=\u001b[0m \u001b[0msample\u001b[0m\u001b[0;34m(\u001b[0m\u001b[0mna_sites\u001b[0m\u001b[0;34m,\u001b[0m\u001b[0;36m3\u001b[0m\u001b[0;34m)\u001b[0m \u001b[0;34m+\u001b[0m \u001b[0msample\u001b[0m\u001b[0;34m(\u001b[0m\u001b[0mcl_sites\u001b[0m\u001b[0;34m,\u001b[0m\u001b[0;36m3\u001b[0m\u001b[0;34m)\u001b[0m\u001b[0;34m\u001b[0m\u001b[0;34m\u001b[0m\u001b[0m\n\u001b[1;32m      9\u001b[0m     \u001b[0;32mfor\u001b[0m \u001b[0mi\u001b[0m \u001b[0;32min\u001b[0m \u001b[0mvacancies\u001b[0m\u001b[0;34m:\u001b[0m\u001b[0;34m\u001b[0m\u001b[0;34m\u001b[0m\u001b[0m\n\u001b[0;32m---> 10\u001b[0;31m         \u001b[0;32mdel\u001b[0m \u001b[0mstructure\u001b[0m\u001b[0;34m[\u001b[0m\u001b[0mi\u001b[0m\u001b[0;34m]\u001b[0m\u001b[0;34m\u001b[0m\u001b[0;34m\u001b[0m\u001b[0m\n\u001b[0m\u001b[1;32m     11\u001b[0m     \u001b[0;32mreturn\u001b[0m \u001b[0mstructure\u001b[0m\u001b[0;34m\u001b[0m\u001b[0;34m\u001b[0m\u001b[0m\n\u001b[1;32m     12\u001b[0m \u001b[0;34m\u001b[0m\u001b[0m\n",
      "\u001b[0;32m~/.local/lib/python3.8/site-packages/pymatgen/core/structure.py\u001b[0m in \u001b[0;36m__delitem__\u001b[0;34m(self, i)\u001b[0m\n\u001b[1;32m   3254\u001b[0m         \u001b[0mDeletes\u001b[0m \u001b[0ma\u001b[0m \u001b[0msite\u001b[0m \u001b[0;32mfrom\u001b[0m \u001b[0mthe\u001b[0m \u001b[0mStructure\u001b[0m\u001b[0;34m.\u001b[0m\u001b[0;34m\u001b[0m\u001b[0;34m\u001b[0m\u001b[0m\n\u001b[1;32m   3255\u001b[0m         \"\"\"\n\u001b[0;32m-> 3256\u001b[0;31m         \u001b[0mself\u001b[0m\u001b[0;34m.\u001b[0m\u001b[0m_sites\u001b[0m\u001b[0;34m.\u001b[0m\u001b[0m__delitem__\u001b[0m\u001b[0;34m(\u001b[0m\u001b[0mi\u001b[0m\u001b[0;34m)\u001b[0m\u001b[0;34m\u001b[0m\u001b[0;34m\u001b[0m\u001b[0m\n\u001b[0m\u001b[1;32m   3257\u001b[0m \u001b[0;34m\u001b[0m\u001b[0m\n\u001b[1;32m   3258\u001b[0m     \u001b[0;34m@\u001b[0m\u001b[0mproperty\u001b[0m\u001b[0;34m\u001b[0m\u001b[0;34m\u001b[0m\u001b[0m\n",
      "\u001b[0;31mIndexError\u001b[0m: list assignment index out of range"
     ]
    }
   ],
   "source": [
    "import pymatgen as mg\n",
    "from random import sample\n",
    "from pymatgen.io.cif import CifWriter\n",
    "\n",
    "def balance_Na(structure):\n",
    "    na_sites = [i for i, site in enumerate(list(structure)) if site.species_string == \"Na\"]\n",
    "    cl_sites = [i for i, site in enumerate(list(structure)) if site.species_string == \"Cl\"]\n",
    "    vacancies = sample(na_sites,3) + sample(cl_sites,3)\n",
    "    for i in vacancies:\n",
    "        structure[i].species = \"V\"\n",
    "    return structure\n",
    "\n",
    "lattice = mg.Lattice.cubic(4.501)\n",
    "structure = mg.Structure(lattice, ['Na', 'Na', 'Na', 'O', 'Cl'], [[0.5, 0.5, 0], [0.5, 0, 0.5], [0, 0.5, 0.5], [0.5, 0.5, 0.5], [0, 0, 0]])\n",
    "structure.make_supercell([3,3,3])\n",
    "\n",
    "balance_Na(structure)\n",
    "\n",
    "w = CifWriter(structure)\n",
    "w.write_file('na3ocl.cif')"
   ]
  },
  {
   "cell_type": "code",
   "execution_count": 32,
   "metadata": {},
   "outputs": [],
   "source": [
    "supercell"
   ]
  },
  {
   "cell_type": "code",
   "execution_count": 13,
   "metadata": {},
   "outputs": [],
   "source": [
    "from pymatgen.io.vasp import Poscar\n",
    "from pymatgen.io.cif import CifWriter\n",
    "\n",
    "w = CifWriter(structure)\n",
    "w.write_file('mystructure.cif')"
   ]
  },
  {
   "cell_type": "code",
   "execution_count": null,
   "metadata": {},
   "outputs": [],
   "source": []
  }
 ],
 "metadata": {
  "kernelspec": {
   "display_name": "Python 3",
   "language": "python",
   "name": "python3"
  },
  "language_info": {
   "codemirror_mode": {
    "name": "ipython",
    "version": 3
   },
   "file_extension": ".py",
   "mimetype": "text/x-python",
   "name": "python",
   "nbconvert_exporter": "python",
   "pygments_lexer": "ipython3",
   "version": "3.8.5"
  }
 },
 "nbformat": 4,
 "nbformat_minor": 4
}
